{
 "cells": [
  {
   "cell_type": "markdown",
   "id": "62168d4f",
   "metadata": {},
   "source": [
    "import pandas as pd\n",
    "import seaborn as sns\n",
    "import matplotlib.pyplot as plt\n",
    "from nltk.sentiment.vader import SentimentIntensityAnalyzer\n",
    "sentiments = SentimentIntensityAnalyzer()"
   ]
  },
  {
   "cell_type": "markdown",
   "id": "2d6f0665",
   "metadata": {},
   "source": [
    "data = pd.read_csv(\"sentimentanalysisofamazon.txt\", delimiter='\\t')\n"
   ]
  },
  {
   "cell_type": "markdown",
   "id": "fc4ea54e",
   "metadata": {},
   "source": [
    "print(data.head())"
   ]
  },
  {
   "cell_type": "markdown",
   "id": "0095b2fb",
   "metadata": {},
   "source": [
    "ratings = data[\"rating\"].value_counts()\n",
    "number = ratings.index\n",
    "quantity = ratings.values"
   ]
  },
  {
   "cell_type": "markdown",
   "id": "e52d64c9",
   "metadata": {},
   "source": [
    "custom_colors = [\"skyblue\", \"yellowgreen\", 'tomato', \"blue\", \"red\"]\n",
    "plt.figure(figsize=(5, 5))\n",
    "plt.pie(quantity, labels=number, colors=custom_colors)\n",
    "central_circle = plt.Circle((0, 0), 0.5, color='white')\n",
    "fig = plt.gcf()\n",
    "fig.gca().add_artist(central_circle)\n",
    "plt.rc('font', size=12)\n",
    "plt.title(\"Amazon Alexa Reviews\", fontsize=20)\n",
    "plt.show()"
   ]
  },
  {
   "cell_type": "markdown",
   "id": "328b5f9d",
   "metadata": {},
   "source": [
    "from nltk.sentiment import SentimentIntensityAnalyzer\n",
    "sentiments = SentimentIntensityAnalyzer()\n",
    "data[\"Positive\"] = [sentiments.polarity_scores(str(i))[\"pos\"] for i in data[\"verified_reviews\"]]\n",
    "data[\"Negative\"] = [sentiments.polarity_scores(str(i))[\"neg\"] for i in data[\"verified_reviews\"]]\n",
    "data[\"Neutral\"] = [sentiments.polarity_scores(str(i))[\"neu\"] for i in data[\"verified_reviews\"]]"
   ]
  },
  {
   "cell_type": "markdown",
   "id": "84034819",
   "metadata": {},
   "source": [
    "x = sum(data[\"Positive\"])\n",
    "y = sum(data[\"Negative\"])\n",
    "z=sum(data[\"Neutral\"])"
   ]
  },
  {
   "cell_type": "markdown",
   "id": "162427f3",
   "metadata": {},
   "source": [
    "def sentiment_score(a,b,c):\n",
    "    if(a>b) and (a>c):\n",
    "        print(\"Positive\")\n",
    "    elif(b>a) and (b>c):\n",
    "        print (\"Negative\")\n",
    "    else:\n",
    "        print(\"Neutral\")"
   ]
  },
  {
   "cell_type": "markdown",
   "id": "f1ed7881",
   "metadata": {},
   "source": [
    "sentiment_score(x,y,z)"
   ]
  },
  {
   "cell_type": "markdown",
   "id": "bdcb7d8b",
   "metadata": {},
   "source": []
  }
 ],
 "metadata": {
  "kernelspec": {
   "display_name": "Python 3 (ipykernel)",
   "language": "python",
   "name": "python3"
  },
  "language_info": {
   "codemirror_mode": {
    "name": "ipython",
    "version": 3
   },
   "file_extension": ".py",
   "mimetype": "text/x-python",
   "name": "python",
   "nbconvert_exporter": "python",
   "pygments_lexer": "ipython3",
   "version": "3.11.5"
  }
 },
 "nbformat": 4,
 "nbformat_minor": 5
}
